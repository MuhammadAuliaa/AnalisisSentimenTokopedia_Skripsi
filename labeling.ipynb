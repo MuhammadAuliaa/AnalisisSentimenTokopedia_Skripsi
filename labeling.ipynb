{
 "cells": [
  {
   "cell_type": "code",
   "execution_count": 1,
   "metadata": {},
   "outputs": [],
   "source": [
    "import pandas as pd\n",
    "\n",
    "df = pd.read_csv('data/coba.csv')"
   ]
  },
  {
   "cell_type": "code",
   "execution_count": 2,
   "metadata": {},
   "outputs": [],
   "source": [
    "label = []\n",
    "for index, row in df.iterrows():\n",
    "  if row[\"Rating\"] == 1 or row[\"Rating\"] == 2:\n",
    "    label.append(0)\n",
    "  else :\n",
    "    label.append(1)\n",
    "\n",
    "df[\"label\"] = label"
   ]
  },
  {
   "cell_type": "code",
   "execution_count": 3,
   "metadata": {},
   "outputs": [
    {
     "data": {
      "text/html": [
       "<div>\n",
       "<style scoped>\n",
       "    .dataframe tbody tr th:only-of-type {\n",
       "        vertical-align: middle;\n",
       "    }\n",
       "\n",
       "    .dataframe tbody tr th {\n",
       "        vertical-align: top;\n",
       "    }\n",
       "\n",
       "    .dataframe thead th {\n",
       "        text-align: right;\n",
       "    }\n",
       "</style>\n",
       "<table border=\"1\" class=\"dataframe\">\n",
       "  <thead>\n",
       "    <tr style=\"text-align: right;\">\n",
       "      <th></th>\n",
       "      <th>Unnamed: 0</th>\n",
       "      <th>Nama Pelanggan</th>\n",
       "      <th>Produk</th>\n",
       "      <th>Ulasan</th>\n",
       "      <th>Rating</th>\n",
       "      <th>label</th>\n",
       "    </tr>\n",
       "  </thead>\n",
       "  <tbody>\n",
       "    <tr>\n",
       "      <th>0</th>\n",
       "      <td>0</td>\n",
       "      <td>Firdan</td>\n",
       "      <td>iPad Air 5 2022 M1 Chip 256GB 64GB CELL Cellul...</td>\n",
       "      <td>Mantap. Original</td>\n",
       "      <td>5</td>\n",
       "      <td>1</td>\n",
       "    </tr>\n",
       "    <tr>\n",
       "      <th>1</th>\n",
       "      <td>1</td>\n",
       "      <td>Choirul</td>\n",
       "      <td>Realme 10 4G 256GB 128GB Black White 8/256GB 8...</td>\n",
       "      <td>barang ori</td>\n",
       "      <td>5</td>\n",
       "      <td>1</td>\n",
       "    </tr>\n",
       "    <tr>\n",
       "      <th>2</th>\n",
       "      <td>2</td>\n",
       "      <td>L***s</td>\n",
       "      <td>SPECIAL REQUEST CUSTOMER STUDIO PONSEL - HP TA...</td>\n",
       "      <td>Happy belanja di sini..\\nThanks ya</td>\n",
       "      <td>5</td>\n",
       "      <td>1</td>\n",
       "    </tr>\n",
       "    <tr>\n",
       "      <th>3</th>\n",
       "      <td>3</td>\n",
       "      <td>R***I</td>\n",
       "      <td>RESMI Samsung Galaxy S23 5G 8/256GB Garansi SE...</td>\n",
       "      <td>packing aman, segel repack, ori. berfungsi den...</td>\n",
       "      <td>5</td>\n",
       "      <td>1</td>\n",
       "    </tr>\n",
       "    <tr>\n",
       "      <th>4</th>\n",
       "      <td>4</td>\n",
       "      <td>H***s</td>\n",
       "      <td>Apple Macbook Pro 2021 M1 Pro 14\" RAM 16GB 512...</td>\n",
       "      <td>Pengiriman instan aman ada live tracking, pack...</td>\n",
       "      <td>5</td>\n",
       "      <td>1</td>\n",
       "    </tr>\n",
       "  </tbody>\n",
       "</table>\n",
       "</div>"
      ],
      "text/plain": [
       "   Unnamed: 0 Nama Pelanggan  \\\n",
       "0           0         Firdan   \n",
       "1           1        Choirul   \n",
       "2           2          L***s   \n",
       "3           3          R***I   \n",
       "4           4          H***s   \n",
       "\n",
       "                                              Produk  \\\n",
       "0  iPad Air 5 2022 M1 Chip 256GB 64GB CELL Cellul...   \n",
       "1  Realme 10 4G 256GB 128GB Black White 8/256GB 8...   \n",
       "2  SPECIAL REQUEST CUSTOMER STUDIO PONSEL - HP TA...   \n",
       "3  RESMI Samsung Galaxy S23 5G 8/256GB Garansi SE...   \n",
       "4  Apple Macbook Pro 2021 M1 Pro 14\" RAM 16GB 512...   \n",
       "\n",
       "                                              Ulasan  Rating  label  \n",
       "0                                   Mantap. Original       5      1  \n",
       "1                                         barang ori       5      1  \n",
       "2                 Happy belanja di sini..\\nThanks ya       5      1  \n",
       "3  packing aman, segel repack, ori. berfungsi den...       5      1  \n",
       "4  Pengiriman instan aman ada live tracking, pack...       5      1  "
      ]
     },
     "execution_count": 3,
     "metadata": {},
     "output_type": "execute_result"
    }
   ],
   "source": [
    "df.head()"
   ]
  },
  {
   "cell_type": "code",
   "execution_count": 4,
   "metadata": {},
   "outputs": [],
   "source": [
    "df.to_csv('labeling.csv')"
   ]
  },
  {
   "cell_type": "code",
   "execution_count": null,
   "metadata": {},
   "outputs": [],
   "source": []
  }
 ],
 "metadata": {
  "kernelspec": {
   "display_name": "Python 3",
   "language": "python",
   "name": "python3"
  },
  "language_info": {
   "codemirror_mode": {
    "name": "ipython",
    "version": 3
   },
   "file_extension": ".py",
   "mimetype": "text/x-python",
   "name": "python",
   "nbconvert_exporter": "python",
   "pygments_lexer": "ipython3",
   "version": "3.11.2"
  },
  "orig_nbformat": 4
 },
 "nbformat": 4,
 "nbformat_minor": 2
}
